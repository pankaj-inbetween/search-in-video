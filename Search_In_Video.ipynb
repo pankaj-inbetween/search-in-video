{
  "cells": [
    {
      "cell_type": "markdown",
      "metadata": {
        "id": "view-in-github",
        "colab_type": "text"
      },
      "source": [
        "<a href=\"https://colab.research.google.com/github/pankaj-inbetween/search-in-video/blob/main/Search_In_Video.ipynb\" target=\"_parent\"><img src=\"https://colab.research.google.com/assets/colab-badge.svg\" alt=\"Open In Colab\"/></a>"
      ]
    },
    {
      "cell_type": "code",
      "execution_count": 6,
      "id": "bf85864a",
      "metadata": {
        "colab": {
          "base_uri": "https://localhost:8080/",
          "height": 1000
        },
        "id": "bf85864a",
        "outputId": "0940ecb9-d54c-4f6a-c618-553a585992b7"
      },
      "outputs": [
        {
          "output_type": "stream",
          "name": "stdout",
          "text": [
            "Requirement already satisfied: pysrt in /usr/local/lib/python3.10/dist-packages (1.1.2)\n",
            "Requirement already satisfied: langchain_astradb in /usr/local/lib/python3.10/dist-packages (0.0.1)\n",
            "Collecting langchain_openai\n",
            "  Downloading langchain_openai-0.0.8-py3-none-any.whl (32 kB)\n",
            "Requirement already satisfied: chardet in /usr/local/lib/python3.10/dist-packages (from pysrt) (5.2.0)\n",
            "Requirement already satisfied: astrapy<0.8.0,>=0.7.5 in /usr/local/lib/python3.10/dist-packages (from langchain_astradb) (0.7.7)\n",
            "Requirement already satisfied: langchain-core<0.2.0,>=0.1.5 in /usr/local/lib/python3.10/dist-packages (from langchain_astradb) (0.1.30)\n",
            "Requirement already satisfied: numpy<2,>=1 in /usr/local/lib/python3.10/dist-packages (from langchain_astradb) (1.25.2)\n",
            "Collecting openai<2.0.0,>=1.10.0 (from langchain_openai)\n",
            "  Downloading openai-1.13.3-py3-none-any.whl (227 kB)\n",
            "\u001b[2K     \u001b[90m━━━━━━━━━━━━━━━━━━━━━━━━━━━━━━━━━━━━━━━━\u001b[0m \u001b[32m227.4/227.4 kB\u001b[0m \u001b[31m8.5 MB/s\u001b[0m eta \u001b[36m0:00:00\u001b[0m\n",
            "\u001b[?25hCollecting tiktoken<1,>=0.5.2 (from langchain_openai)\n",
            "  Downloading tiktoken-0.6.0-cp310-cp310-manylinux_2_17_x86_64.manylinux2014_x86_64.whl (1.8 MB)\n",
            "\u001b[2K     \u001b[90m━━━━━━━━━━━━━━━━━━━━━━━━━━━━━━━━━━━━━━━━\u001b[0m \u001b[32m1.8/1.8 MB\u001b[0m \u001b[31m50.1 MB/s\u001b[0m eta \u001b[36m0:00:00\u001b[0m\n",
            "\u001b[?25hRequirement already satisfied: cassio<0.2.0,>=0.1.4 in /usr/local/lib/python3.10/dist-packages (from astrapy<0.8.0,>=0.7.5->langchain_astradb) (0.1.5)\n",
            "Requirement already satisfied: deprecation<2.2.0,>=2.1.0 in /usr/local/lib/python3.10/dist-packages (from astrapy<0.8.0,>=0.7.5->langchain_astradb) (2.1.0)\n",
            "Requirement already satisfied: httpx[http2]<1,>=0.25.2 in /usr/local/lib/python3.10/dist-packages (from astrapy<0.8.0,>=0.7.5->langchain_astradb) (0.27.0)\n",
            "Requirement already satisfied: toml<0.11.0,>=0.10.2 in /usr/local/lib/python3.10/dist-packages (from astrapy<0.8.0,>=0.7.5->langchain_astradb) (0.10.2)\n",
            "Requirement already satisfied: PyYAML>=5.3 in /usr/local/lib/python3.10/dist-packages (from langchain-core<0.2.0,>=0.1.5->langchain_astradb) (6.0.1)\n",
            "Requirement already satisfied: anyio<5,>=3 in /usr/local/lib/python3.10/dist-packages (from langchain-core<0.2.0,>=0.1.5->langchain_astradb) (3.7.1)\n",
            "Requirement already satisfied: jsonpatch<2.0,>=1.33 in /usr/local/lib/python3.10/dist-packages (from langchain-core<0.2.0,>=0.1.5->langchain_astradb) (1.33)\n",
            "Requirement already satisfied: langsmith<0.2.0,>=0.1.0 in /usr/local/lib/python3.10/dist-packages (from langchain-core<0.2.0,>=0.1.5->langchain_astradb) (0.1.23)\n",
            "Requirement already satisfied: packaging<24.0,>=23.2 in /usr/local/lib/python3.10/dist-packages (from langchain-core<0.2.0,>=0.1.5->langchain_astradb) (23.2)\n",
            "Requirement already satisfied: pydantic<3,>=1 in /usr/local/lib/python3.10/dist-packages (from langchain-core<0.2.0,>=0.1.5->langchain_astradb) (2.6.3)\n",
            "Requirement already satisfied: requests<3,>=2 in /usr/local/lib/python3.10/dist-packages (from langchain-core<0.2.0,>=0.1.5->langchain_astradb) (2.31.0)\n",
            "Requirement already satisfied: tenacity<9.0.0,>=8.1.0 in /usr/local/lib/python3.10/dist-packages (from langchain-core<0.2.0,>=0.1.5->langchain_astradb) (8.2.3)\n",
            "Requirement already satisfied: distro<2,>=1.7.0 in /usr/lib/python3/dist-packages (from openai<2.0.0,>=1.10.0->langchain_openai) (1.7.0)\n",
            "Requirement already satisfied: sniffio in /usr/local/lib/python3.10/dist-packages (from openai<2.0.0,>=1.10.0->langchain_openai) (1.3.1)\n",
            "Requirement already satisfied: tqdm>4 in /usr/local/lib/python3.10/dist-packages (from openai<2.0.0,>=1.10.0->langchain_openai) (4.66.2)\n",
            "Requirement already satisfied: typing-extensions<5,>=4.7 in /usr/local/lib/python3.10/dist-packages (from openai<2.0.0,>=1.10.0->langchain_openai) (4.10.0)\n",
            "Requirement already satisfied: regex>=2022.1.18 in /usr/local/lib/python3.10/dist-packages (from tiktoken<1,>=0.5.2->langchain_openai) (2023.12.25)\n",
            "Requirement already satisfied: idna>=2.8 in /usr/local/lib/python3.10/dist-packages (from anyio<5,>=3->langchain-core<0.2.0,>=0.1.5->langchain_astradb) (3.6)\n",
            "Requirement already satisfied: exceptiongroup in /usr/local/lib/python3.10/dist-packages (from anyio<5,>=3->langchain-core<0.2.0,>=0.1.5->langchain_astradb) (1.2.0)\n",
            "Requirement already satisfied: cassandra-driver>=3.28.0 in /usr/local/lib/python3.10/dist-packages (from cassio<0.2.0,>=0.1.4->astrapy<0.8.0,>=0.7.5->langchain_astradb) (3.29.0)\n",
            "Requirement already satisfied: certifi in /usr/local/lib/python3.10/dist-packages (from httpx[http2]<1,>=0.25.2->astrapy<0.8.0,>=0.7.5->langchain_astradb) (2024.2.2)\n",
            "Requirement already satisfied: httpcore==1.* in /usr/local/lib/python3.10/dist-packages (from httpx[http2]<1,>=0.25.2->astrapy<0.8.0,>=0.7.5->langchain_astradb) (1.0.4)\n",
            "Requirement already satisfied: h11<0.15,>=0.13 in /usr/local/lib/python3.10/dist-packages (from httpcore==1.*->httpx[http2]<1,>=0.25.2->astrapy<0.8.0,>=0.7.5->langchain_astradb) (0.14.0)\n",
            "Requirement already satisfied: h2<5,>=3 in /usr/local/lib/python3.10/dist-packages (from httpx[http2]<1,>=0.25.2->astrapy<0.8.0,>=0.7.5->langchain_astradb) (4.1.0)\n",
            "Requirement already satisfied: jsonpointer>=1.9 in /usr/local/lib/python3.10/dist-packages (from jsonpatch<2.0,>=1.33->langchain-core<0.2.0,>=0.1.5->langchain_astradb) (2.4)\n",
            "Requirement already satisfied: orjson<4.0.0,>=3.9.14 in /usr/local/lib/python3.10/dist-packages (from langsmith<0.2.0,>=0.1.0->langchain-core<0.2.0,>=0.1.5->langchain_astradb) (3.9.15)\n",
            "Requirement already satisfied: annotated-types>=0.4.0 in /usr/local/lib/python3.10/dist-packages (from pydantic<3,>=1->langchain-core<0.2.0,>=0.1.5->langchain_astradb) (0.6.0)\n",
            "Requirement already satisfied: pydantic-core==2.16.3 in /usr/local/lib/python3.10/dist-packages (from pydantic<3,>=1->langchain-core<0.2.0,>=0.1.5->langchain_astradb) (2.16.3)\n",
            "Requirement already satisfied: charset-normalizer<4,>=2 in /usr/local/lib/python3.10/dist-packages (from requests<3,>=2->langchain-core<0.2.0,>=0.1.5->langchain_astradb) (3.3.2)\n",
            "Requirement already satisfied: urllib3<3,>=1.21.1 in /usr/local/lib/python3.10/dist-packages (from requests<3,>=2->langchain-core<0.2.0,>=0.1.5->langchain_astradb) (2.0.7)\n",
            "Requirement already satisfied: geomet<0.3,>=0.1 in /usr/local/lib/python3.10/dist-packages (from cassandra-driver>=3.28.0->cassio<0.2.0,>=0.1.4->astrapy<0.8.0,>=0.7.5->langchain_astradb) (0.2.1.post1)\n",
            "Requirement already satisfied: hyperframe<7,>=6.0 in /usr/local/lib/python3.10/dist-packages (from h2<5,>=3->httpx[http2]<1,>=0.25.2->astrapy<0.8.0,>=0.7.5->langchain_astradb) (6.0.1)\n",
            "Requirement already satisfied: hpack<5,>=4.0 in /usr/local/lib/python3.10/dist-packages (from h2<5,>=3->httpx[http2]<1,>=0.25.2->astrapy<0.8.0,>=0.7.5->langchain_astradb) (4.0.0)\n",
            "Requirement already satisfied: click in /usr/local/lib/python3.10/dist-packages (from geomet<0.3,>=0.1->cassandra-driver>=3.28.0->cassio<0.2.0,>=0.1.4->astrapy<0.8.0,>=0.7.5->langchain_astradb) (8.1.7)\n",
            "Requirement already satisfied: six in /usr/local/lib/python3.10/dist-packages (from geomet<0.3,>=0.1->cassandra-driver>=3.28.0->cassio<0.2.0,>=0.1.4->astrapy<0.8.0,>=0.7.5->langchain_astradb) (1.16.0)\n",
            "Installing collected packages: tiktoken, openai, langchain_openai\n",
            "Successfully installed langchain_openai-0.0.8 openai-1.13.3 tiktoken-0.6.0\n"
          ]
        },
        {
          "output_type": "error",
          "ename": "ModuleNotFoundError",
          "evalue": "No module named 'dotenv'",
          "traceback": [
            "\u001b[0;31m---------------------------------------------------------------------------\u001b[0m",
            "\u001b[0;31mModuleNotFoundError\u001b[0m                       Traceback (most recent call last)",
            "\u001b[0;32m<ipython-input-6-0edd86116d57>\u001b[0m in \u001b[0;36m<cell line: 7>\u001b[0;34m()\u001b[0m\n\u001b[1;32m      5\u001b[0m \u001b[0;32mfrom\u001b[0m \u001b[0mlangchain_core\u001b[0m\u001b[0;34m.\u001b[0m\u001b[0mdocuments\u001b[0m \u001b[0;32mimport\u001b[0m \u001b[0mDocument\u001b[0m\u001b[0;34m\u001b[0m\u001b[0;34m\u001b[0m\u001b[0m\n\u001b[1;32m      6\u001b[0m \u001b[0;32mfrom\u001b[0m \u001b[0mlangchain_openai\u001b[0m \u001b[0;32mimport\u001b[0m \u001b[0mOpenAIEmbeddings\u001b[0m\u001b[0;34m\u001b[0m\u001b[0;34m\u001b[0m\u001b[0m\n\u001b[0;32m----> 7\u001b[0;31m \u001b[0;32mfrom\u001b[0m \u001b[0mdotenv\u001b[0m \u001b[0;32mimport\u001b[0m \u001b[0mload_dotenv\u001b[0m\u001b[0;34m\u001b[0m\u001b[0;34m\u001b[0m\u001b[0m\n\u001b[0m\u001b[1;32m      8\u001b[0m \u001b[0;32mimport\u001b[0m \u001b[0mos\u001b[0m\u001b[0;34m\u001b[0m\u001b[0;34m\u001b[0m\u001b[0m\n\u001b[1;32m      9\u001b[0m \u001b[0;32mimport\u001b[0m \u001b[0mpandas\u001b[0m \u001b[0;32mas\u001b[0m \u001b[0mpd\u001b[0m\u001b[0;34m\u001b[0m\u001b[0;34m\u001b[0m\u001b[0m\n",
            "\u001b[0;31mModuleNotFoundError\u001b[0m: No module named 'dotenv'",
            "",
            "\u001b[0;31m---------------------------------------------------------------------------\u001b[0;32m\nNOTE: If your import is failing due to a missing package, you can\nmanually install dependencies using either !pip or !apt.\n\nTo view examples of installing some common dependencies, click the\n\"Open Examples\" button below.\n\u001b[0;31m---------------------------------------------------------------------------\u001b[0m\n"
          ],
          "errorDetails": {
            "actions": [
              {
                "action": "open_url",
                "actionText": "Open Examples",
                "url": "/notebooks/snippets/importing_libraries.ipynb"
              }
            ]
          }
        }
      ],
      "source": [
        "!pip install pysrt langchain_astradb langchain_openai\n",
        "import pysrt\n",
        "import datetime\n",
        "from langchain_astradb import AstraDBVectorStore\n",
        "from langchain_core.documents import Document\n",
        "from langchain_openai import OpenAIEmbeddings\n",
        "from dotenv import load_dotenv\n",
        "import os\n",
        "import pandas as pd"
      ]
    },
    {
      "cell_type": "code",
      "execution_count": null,
      "id": "dcc3fa0c",
      "metadata": {
        "id": "dcc3fa0c"
      },
      "outputs": [],
      "source": [
        "load_dotenv()"
      ]
    },
    {
      "cell_type": "code",
      "execution_count": null,
      "id": "1030c242",
      "metadata": {
        "id": "1030c242"
      },
      "outputs": [],
      "source": [
        "subs = pysrt.open('sub.srt')\n",
        "youtube_link = \"https://www.youtube.com/watch?v=haDg_l9jjxA\""
      ]
    },
    {
      "cell_type": "code",
      "execution_count": null,
      "id": "3a2aa2ae",
      "metadata": {
        "id": "3a2aa2ae"
      },
      "outputs": [],
      "source": [
        "def split_by_timewindow(subs, window_in_minutes):\n",
        "    docs = []\n",
        "    t = ''\n",
        "    split_time = datetime.time(hour=0,minute=window_in_minutes, second=0)\n",
        "    for s in subs:\n",
        "        if s.start.to_time() < split_time:\n",
        "            t = t + ' ' + s.text\n",
        "        else:\n",
        "            start_time =  (split_time.hour*3600) + (split_time.minute*60) + (split_time.second) - 60\n",
        "            docs.append(Document(page_content=t,metadata={\"link\":f\"{youtube_link}&t={start_time}s\", \"start_time\":start_time}))\n",
        "            t = s.text\n",
        "            split_time = (datetime.datetime(1, 1, 1,split_time.hour,split_time.minute, split_time.second) +  datetime.timedelta(minutes=window_in_minutes)).time()\n",
        "    return docs"
      ]
    },
    {
      "cell_type": "code",
      "execution_count": null,
      "id": "ff516183",
      "metadata": {
        "id": "ff516183"
      },
      "outputs": [],
      "source": [
        "t=split_by_timewindow(subs, 1)\n",
        "embedding = OpenAIEmbeddings()\n",
        "vstore = AstraDBVectorStore(\n",
        "    embedding=embedding,\n",
        "    collection_name=\"test\",\n",
        "    token=os.environ[\"ASTRA_DB_APPLICATION_TOKEN\"],\n",
        "    api_endpoint=os.environ[\"ASTRA_DB_API_ENDPOINT\"],\n",
        ")"
      ]
    },
    {
      "cell_type": "code",
      "execution_count": null,
      "id": "5462045a",
      "metadata": {
        "id": "5462045a"
      },
      "outputs": [],
      "source": [
        "vstore.add_documents(t)"
      ]
    },
    {
      "cell_type": "code",
      "execution_count": null,
      "id": "b8a65094",
      "metadata": {
        "id": "b8a65094",
        "outputId": "3b9e620a-dd20-4f0d-ffcd-6c784170937e"
      },
      "outputs": [
        {
          "data": {
            "text/html": [
              "<div>\n",
              "<style scoped>\n",
              "    .dataframe tbody tr th:only-of-type {\n",
              "        vertical-align: middle;\n",
              "    }\n",
              "\n",
              "    .dataframe tbody tr th {\n",
              "        vertical-align: top;\n",
              "    }\n",
              "\n",
              "    .dataframe thead th {\n",
              "        text-align: right;\n",
              "    }\n",
              "</style>\n",
              "<table border=\"1\" class=\"dataframe\">\n",
              "  <thead>\n",
              "    <tr style=\"text-align: right;\">\n",
              "      <th></th>\n",
              "      <th>subtitle</th>\n",
              "      <th>link</th>\n",
              "      <th>start_time</th>\n",
              "      <th>score</th>\n",
              "    </tr>\n",
              "  </thead>\n",
              "  <tbody>\n",
              "    <tr>\n",
              "      <th>0</th>\n",
              "      <td>whatever organic compounds are there we will isolate them now biotechnology application in agriculture there are various uh you know applications are there see with increasing population like we have read in the chapter number two of zoology which is reproductive Health there was a major issue and that major issue was related to the population increasing you know population in millions it was difficult to feed those number of individuals so what we did we tried to increase the agriculture right by that only we can provide them food so we started using some chemicals we started using some chemicals like insecticide and pesticides and we when we started using those insecticide and pesticide what happened production increased and because of that insecticide and pesticide they had some residual effects also though this lead to the Green Revolution also which later we realized</td>\n",
              "      <td>https://www.youtube.com/watch?v=haDg_l9jjxA&amp;t=21180s</td>\n",
              "      <td>21180</td>\n",
              "      <td>0.943823</td>\n",
              "    </tr>\n",
              "    <tr>\n",
              "      <th>1</th>\n",
              "      <td>we are starting with the biotechnology</td>\n",
              "      <td>https://www.youtube.com/watch?v=haDg_l9jjxA&amp;t=16920s</td>\n",
              "      <td>16920</td>\n",
              "      <td>0.937256</td>\n",
              "    </tr>\n",
              "    <tr>\n",
              "      <th>2</th>\n",
              "      <td>pesticide we don't want pesticides help to reduce post Harvest loss when we are storing those food in bulk nothing can happen to them next increased efficiency of mineral usage by plants more and more plants are extracting nutrients from the soil even when they are at dwarf prod you know when when they are small and high they're producing fruit how it is possible bi technology only enhanced nutritional value for example today we have produced golden rice golden rice means doesn't means it is golden it's made up of gold it doesn't mean that golden rice means it is yellow color rice which is rich in vitamin A okay so with the help of all these things today all biotechnology we have made these things possible so everybody my cbsc aspirant keep these points in your mind okay now what we have prepared so far let's talk</td>\n",
              "      <td>https://www.youtube.com/watch?v=haDg_l9jjxA&amp;t=21300s</td>\n",
              "      <td>21300</td>\n",
              "      <td>0.928397</td>\n",
              "    </tr>\n",
              "    <tr>\n",
              "      <th>3</th>\n",
              "      <td>their natural capability now what we are doing is with the help of a recombinant DNA technology we are modifying those microorganism so that we can use them for the products and the services let's have a look so what is a standard definition of biotechnology given by efb that is the European Federation of biotechnology European Federation of biotechnology says when we integrate when we use the natural capability that means natural sign means organism sells part of their molecular analog for our products and services this is termed as the biotechnology let me first switch on the AC one second it's really very hard and guys I'm telling you seriously it's so difficult to stand in front of the screen with just warit heat one</td>\n",
              "      <td>https://www.youtube.com/watch?v=haDg_l9jjxA&amp;t=17340s</td>\n",
              "      <td>17340</td>\n",
              "      <td>0.921951</td>\n",
              "    </tr>\n",
              "    <tr>\n",
              "      <th>4</th>\n",
              "      <td>chapter it's not that big one it's a small as compared to the uh you know the other chapters so let's do this biot technology application so you know the biotechnology biotechnology is we are modifying it we are using genetic engineering and we are using bioprocesses yes then previously other chapters whatever is there now application of biotechnology there are various applications of biotechnology one is Therapeutics diagnostic genetically modified crop for agriculture processed food bior remediation waste material removal and the energy production these are the different ways right okay three critical areas of the research in biotechnology are see biotechnology what we are doing is we are modifying something right we are modifying something here it provide the</td>\n",
              "      <td>https://www.youtube.com/watch?v=haDg_l9jjxA&amp;t=21060s</td>\n",
              "      <td>21060</td>\n",
              "      <td>0.921778</td>\n",
              "    </tr>\n",
              "  </tbody>\n",
              "</table>\n",
              "</div>"
            ],
            "text/plain": [
              "                                                                                                                                                                                                                                                                                                                                                                                                                                                                                                                                                                                                                                                                                                                                                                                                                                                                                                               subtitle  \\\n",
              "0  whatever organic compounds are there we will isolate them now biotechnology application in agriculture there are various uh you know applications are there see with increasing population like we have read in the chapter number two of zoology which is reproductive Health there was a major issue and that major issue was related to the population increasing you know population in millions it was difficult to feed those number of individuals so what we did we tried to increase the agriculture right by that only we can provide them food so we started using some chemicals we started using some chemicals like insecticide and pesticides and we when we started using those insecticide and pesticide what happened production increased and because of that insecticide and pesticide they had some residual effects also though this lead to the Green Revolution also which later we realized   \n",
              "1                                                                                                                                                                                                                                                                                                                                                                                                                                                                                                                                                                                                                                                                                                                                                                                                                                                                                we are starting with the biotechnology   \n",
              "2                                                             pesticide we don't want pesticides help to reduce post Harvest loss when we are storing those food in bulk nothing can happen to them next increased efficiency of mineral usage by plants more and more plants are extracting nutrients from the soil even when they are at dwarf prod you know when when they are small and high they're producing fruit how it is possible bi technology only enhanced nutritional value for example today we have produced golden rice golden rice means doesn't means it is golden it's made up of gold it doesn't mean that golden rice means it is yellow color rice which is rich in vitamin A okay so with the help of all these things today all biotechnology we have made these things possible so everybody my cbsc aspirant keep these points in your mind okay now what we have prepared so far let's talk   \n",
              "3                                                                                                                                                            their natural capability now what we are doing is with the help of a recombinant DNA technology we are modifying those microorganism so that we can use them for the products and the services let's have a look so what is a standard definition of biotechnology given by efb that is the European Federation of biotechnology European Federation of biotechnology says when we integrate when we use the natural capability that means natural sign means organism sells part of their molecular analog for our products and services this is termed as the biotechnology let me first switch on the AC one second it's really very hard and guys I'm telling you seriously it's so difficult to stand in front of the screen with just warit heat one   \n",
              "4                                                                                                                  chapter it's not that big one it's a small as compared to the uh you know the other chapters so let's do this biot technology application so you know the biotechnology biotechnology is we are modifying it we are using genetic engineering and we are using bioprocesses yes then previously other chapters whatever is there now application of biotechnology there are various applications of biotechnology one is Therapeutics diagnostic genetically modified crop for agriculture processed food bior remediation waste material removal and the energy production these are the different ways right okay three critical areas of the research in biotechnology are see biotechnology what we are doing is we are modifying something right we are modifying something here it provide the   \n",
              "\n",
              "                                                   link  start_time     score  \n",
              "0  https://www.youtube.com/watch?v=haDg_l9jjxA&t=21180s       21180  0.943823  \n",
              "1  https://www.youtube.com/watch?v=haDg_l9jjxA&t=16920s       16920  0.937256  \n",
              "2  https://www.youtube.com/watch?v=haDg_l9jjxA&t=21300s       21300  0.928397  \n",
              "3  https://www.youtube.com/watch?v=haDg_l9jjxA&t=17340s       17340  0.921951  \n",
              "4  https://www.youtube.com/watch?v=haDg_l9jjxA&t=21060s       21060  0.921778  "
            ]
          },
          "execution_count": 50,
          "metadata": {},
          "output_type": "execute_result"
        }
      ],
      "source": [
        "result = vstore.similarity_search_with_relevance_scores(\"bio technology application in agriculture\", k=5)\n",
        "\n",
        "data = { \"subtitle\": [], \"link\": [], \"start_time\": [], \"score\": []}\n",
        "for r in result:\n",
        "    data['subtitle'].append(r[0].page_content)\n",
        "    data['link'].append(r[0].metadata['link'])\n",
        "    data['score'].append(r[1])\n",
        "    data['start_time'].append(r[0].metadata['start_time'])\n",
        "df = pd.DataFrame(data)\n",
        "pd.set_option('display.max_colwidth', None)\n",
        "df\n"
      ]
    },
    {
      "cell_type": "code",
      "execution_count": null,
      "id": "396e776d",
      "metadata": {
        "id": "396e776d"
      },
      "outputs": [],
      "source": []
    }
  ],
  "metadata": {
    "kernelspec": {
      "display_name": "Python 3 (ipykernel)",
      "language": "python",
      "name": "python3"
    },
    "language_info": {
      "codemirror_mode": {
        "name": "ipython",
        "version": 3
      },
      "file_extension": ".py",
      "mimetype": "text/x-python",
      "name": "python",
      "nbconvert_exporter": "python",
      "pygments_lexer": "ipython3",
      "version": "3.11.6"
    },
    "colab": {
      "provenance": [],
      "include_colab_link": true
    }
  },
  "nbformat": 4,
  "nbformat_minor": 5
}